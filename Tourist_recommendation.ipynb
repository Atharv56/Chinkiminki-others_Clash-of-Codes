{
  "nbformat": 4,
  "nbformat_minor": 0,
  "metadata": {
    "colab": {
      "provenance": []
    },
    "kernelspec": {
      "name": "python3",
      "display_name": "Python 3"
    },
    "language_info": {
      "name": "python"
    }
  },
  "cells": [
    {
      "cell_type": "code",
      "execution_count": 29,
      "metadata": {
        "id": "GFkE0eywKEGh"
      },
      "outputs": [],
      "source": [
        "import numpy as np\n",
        "import pandas as pd\n",
        "import csv\n",
        "import difflib\n",
        "from sklearn.feature_extraction.text import TfidfVectorizer\n",
        "from sklearn.metrics.pairwise import cosine_similarity"
      ]
    },
    {
      "cell_type": "code",
      "source": [
        "df=pd.read_csv('/content/travel_data.csv')"
      ],
      "metadata": {
        "id": "laW0NcqrLOLU"
      },
      "execution_count": 30,
      "outputs": []
    },
    {
      "cell_type": "code",
      "source": [
        "df.head()"
      ],
      "metadata": {
        "colab": {
          "base_uri": "https://localhost:8080/",
          "height": 206
        },
        "id": "irxOqAN0SCjm",
        "outputId": "0eb47015-ffee-4506-fea6-46443a5d99ee"
      },
      "execution_count": 31,
      "outputs": [
        {
          "output_type": "execute_result",
          "data": {
            "text/plain": [
              "  PurqUrban Agglomerationzi  user_id  name     travel_city  Month of Travel  \\\n",
              "0                      Pune        1   NaN         Raiganj                5   \n",
              "1                    Rajkot        2   NaN  Sawai Madhopur                6   \n",
              "2                  Srinagar        3   NaN        Palakkad               12   \n",
              "3                    Ranchi        4   NaN   Robertson Pet                1   \n",
              "4                    Sangli        5   NaN        Marmagao                5   \n",
              "\n",
              "  Duration of Travel  interests  hobbies  age  budgets  karma  \n",
              "0                1-3        NaN      NaN    6    50000      2  \n",
              "1                3-5        NaN      NaN   42   100000      2  \n",
              "2                5-7        NaN      NaN    3    75000      4  \n",
              "3                5-7        NaN      NaN   20    50000      3  \n",
              "4                  7        NaN      NaN   40   150000      4  "
            ],
            "text/html": [
              "\n",
              "  <div id=\"df-94184294-4148-47b4-bd7a-44d13d6346fb\">\n",
              "    <div class=\"colab-df-container\">\n",
              "      <div>\n",
              "<style scoped>\n",
              "    .dataframe tbody tr th:only-of-type {\n",
              "        vertical-align: middle;\n",
              "    }\n",
              "\n",
              "    .dataframe tbody tr th {\n",
              "        vertical-align: top;\n",
              "    }\n",
              "\n",
              "    .dataframe thead th {\n",
              "        text-align: right;\n",
              "    }\n",
              "</style>\n",
              "<table border=\"1\" class=\"dataframe\">\n",
              "  <thead>\n",
              "    <tr style=\"text-align: right;\">\n",
              "      <th></th>\n",
              "      <th>PurqUrban Agglomerationzi</th>\n",
              "      <th>user_id</th>\n",
              "      <th>name</th>\n",
              "      <th>travel_city</th>\n",
              "      <th>Month of Travel</th>\n",
              "      <th>Duration of Travel</th>\n",
              "      <th>interests</th>\n",
              "      <th>hobbies</th>\n",
              "      <th>age</th>\n",
              "      <th>budgets</th>\n",
              "      <th>karma</th>\n",
              "    </tr>\n",
              "  </thead>\n",
              "  <tbody>\n",
              "    <tr>\n",
              "      <th>0</th>\n",
              "      <td>Pune</td>\n",
              "      <td>1</td>\n",
              "      <td>NaN</td>\n",
              "      <td>Raiganj</td>\n",
              "      <td>5</td>\n",
              "      <td>1-3</td>\n",
              "      <td>NaN</td>\n",
              "      <td>NaN</td>\n",
              "      <td>6</td>\n",
              "      <td>50000</td>\n",
              "      <td>2</td>\n",
              "    </tr>\n",
              "    <tr>\n",
              "      <th>1</th>\n",
              "      <td>Rajkot</td>\n",
              "      <td>2</td>\n",
              "      <td>NaN</td>\n",
              "      <td>Sawai Madhopur</td>\n",
              "      <td>6</td>\n",
              "      <td>3-5</td>\n",
              "      <td>NaN</td>\n",
              "      <td>NaN</td>\n",
              "      <td>42</td>\n",
              "      <td>100000</td>\n",
              "      <td>2</td>\n",
              "    </tr>\n",
              "    <tr>\n",
              "      <th>2</th>\n",
              "      <td>Srinagar</td>\n",
              "      <td>3</td>\n",
              "      <td>NaN</td>\n",
              "      <td>Palakkad</td>\n",
              "      <td>12</td>\n",
              "      <td>5-7</td>\n",
              "      <td>NaN</td>\n",
              "      <td>NaN</td>\n",
              "      <td>3</td>\n",
              "      <td>75000</td>\n",
              "      <td>4</td>\n",
              "    </tr>\n",
              "    <tr>\n",
              "      <th>3</th>\n",
              "      <td>Ranchi</td>\n",
              "      <td>4</td>\n",
              "      <td>NaN</td>\n",
              "      <td>Robertson Pet</td>\n",
              "      <td>1</td>\n",
              "      <td>5-7</td>\n",
              "      <td>NaN</td>\n",
              "      <td>NaN</td>\n",
              "      <td>20</td>\n",
              "      <td>50000</td>\n",
              "      <td>3</td>\n",
              "    </tr>\n",
              "    <tr>\n",
              "      <th>4</th>\n",
              "      <td>Sangli</td>\n",
              "      <td>5</td>\n",
              "      <td>NaN</td>\n",
              "      <td>Marmagao</td>\n",
              "      <td>5</td>\n",
              "      <td>7</td>\n",
              "      <td>NaN</td>\n",
              "      <td>NaN</td>\n",
              "      <td>40</td>\n",
              "      <td>150000</td>\n",
              "      <td>4</td>\n",
              "    </tr>\n",
              "  </tbody>\n",
              "</table>\n",
              "</div>\n",
              "      <button class=\"colab-df-convert\" onclick=\"convertToInteractive('df-94184294-4148-47b4-bd7a-44d13d6346fb')\"\n",
              "              title=\"Convert this dataframe to an interactive table.\"\n",
              "              style=\"display:none;\">\n",
              "        \n",
              "  <svg xmlns=\"http://www.w3.org/2000/svg\" height=\"24px\"viewBox=\"0 0 24 24\"\n",
              "       width=\"24px\">\n",
              "    <path d=\"M0 0h24v24H0V0z\" fill=\"none\"/>\n",
              "    <path d=\"M18.56 5.44l.94 2.06.94-2.06 2.06-.94-2.06-.94-.94-2.06-.94 2.06-2.06.94zm-11 1L8.5 8.5l.94-2.06 2.06-.94-2.06-.94L8.5 2.5l-.94 2.06-2.06.94zm10 10l.94 2.06.94-2.06 2.06-.94-2.06-.94-.94-2.06-.94 2.06-2.06.94z\"/><path d=\"M17.41 7.96l-1.37-1.37c-.4-.4-.92-.59-1.43-.59-.52 0-1.04.2-1.43.59L10.3 9.45l-7.72 7.72c-.78.78-.78 2.05 0 2.83L4 21.41c.39.39.9.59 1.41.59.51 0 1.02-.2 1.41-.59l7.78-7.78 2.81-2.81c.8-.78.8-2.07 0-2.86zM5.41 20L4 18.59l7.72-7.72 1.47 1.35L5.41 20z\"/>\n",
              "  </svg>\n",
              "      </button>\n",
              "      \n",
              "  <style>\n",
              "    .colab-df-container {\n",
              "      display:flex;\n",
              "      flex-wrap:wrap;\n",
              "      gap: 12px;\n",
              "    }\n",
              "\n",
              "    .colab-df-convert {\n",
              "      background-color: #E8F0FE;\n",
              "      border: none;\n",
              "      border-radius: 50%;\n",
              "      cursor: pointer;\n",
              "      display: none;\n",
              "      fill: #1967D2;\n",
              "      height: 32px;\n",
              "      padding: 0 0 0 0;\n",
              "      width: 32px;\n",
              "    }\n",
              "\n",
              "    .colab-df-convert:hover {\n",
              "      background-color: #E2EBFA;\n",
              "      box-shadow: 0px 1px 2px rgba(60, 64, 67, 0.3), 0px 1px 3px 1px rgba(60, 64, 67, 0.15);\n",
              "      fill: #174EA6;\n",
              "    }\n",
              "\n",
              "    [theme=dark] .colab-df-convert {\n",
              "      background-color: #3B4455;\n",
              "      fill: #D2E3FC;\n",
              "    }\n",
              "\n",
              "    [theme=dark] .colab-df-convert:hover {\n",
              "      background-color: #434B5C;\n",
              "      box-shadow: 0px 1px 3px 1px rgba(0, 0, 0, 0.15);\n",
              "      filter: drop-shadow(0px 1px 2px rgba(0, 0, 0, 0.3));\n",
              "      fill: #FFFFFF;\n",
              "    }\n",
              "  </style>\n",
              "\n",
              "      <script>\n",
              "        const buttonEl =\n",
              "          document.querySelector('#df-94184294-4148-47b4-bd7a-44d13d6346fb button.colab-df-convert');\n",
              "        buttonEl.style.display =\n",
              "          google.colab.kernel.accessAllowed ? 'block' : 'none';\n",
              "\n",
              "        async function convertToInteractive(key) {\n",
              "          const element = document.querySelector('#df-94184294-4148-47b4-bd7a-44d13d6346fb');\n",
              "          const dataTable =\n",
              "            await google.colab.kernel.invokeFunction('convertToInteractive',\n",
              "                                                     [key], {});\n",
              "          if (!dataTable) return;\n",
              "\n",
              "          const docLinkHtml = 'Like what you see? Visit the ' +\n",
              "            '<a target=\"_blank\" href=https://colab.research.google.com/notebooks/data_table.ipynb>data table notebook</a>'\n",
              "            + ' to learn more about interactive tables.';\n",
              "          element.innerHTML = '';\n",
              "          dataTable['output_type'] = 'display_data';\n",
              "          await google.colab.output.renderOutput(dataTable, element);\n",
              "          const docLink = document.createElement('div');\n",
              "          docLink.innerHTML = docLinkHtml;\n",
              "          element.appendChild(docLink);\n",
              "        }\n",
              "      </script>\n",
              "    </div>\n",
              "  </div>\n",
              "  "
            ]
          },
          "metadata": {},
          "execution_count": 31
        }
      ]
    },
    {
      "cell_type": "code",
      "source": [
        "df2=df.drop(columns={'name','interests','hobbies','PurqUrban Agglomerationzi'})"
      ],
      "metadata": {
        "id": "7w_avi--SK7M"
      },
      "execution_count": 32,
      "outputs": []
    },
    {
      "cell_type": "code",
      "source": [
        "df2.info()"
      ],
      "metadata": {
        "colab": {
          "base_uri": "https://localhost:8080/"
        },
        "id": "G9IaxnaASmw4",
        "outputId": "73cb382d-570e-4a03-ce16-3dfc5f77a601"
      },
      "execution_count": 33,
      "outputs": [
        {
          "output_type": "stream",
          "name": "stdout",
          "text": [
            "<class 'pandas.core.frame.DataFrame'>\n",
            "RangeIndex: 400 entries, 0 to 399\n",
            "Data columns (total 7 columns):\n",
            " #   Column              Non-Null Count  Dtype \n",
            "---  ------              --------------  ----- \n",
            " 0   user_id             400 non-null    int64 \n",
            " 1   travel_city         400 non-null    object\n",
            " 2   Month of Travel     400 non-null    int64 \n",
            " 3   Duration of Travel  400 non-null    object\n",
            " 4   age                 400 non-null    int64 \n",
            " 5   budgets             400 non-null    int64 \n",
            " 6   karma               400 non-null    int64 \n",
            "dtypes: int64(5), object(2)\n",
            "memory usage: 22.0+ KB\n"
          ]
        }
      ]
    },
    {
      "cell_type": "code",
      "source": [
        "df2=df2.reset_index()"
      ],
      "metadata": {
        "id": "TCbth-XaTN0O"
      },
      "execution_count": 34,
      "outputs": []
    },
    {
      "cell_type": "code",
      "source": [
        "df2.drop(['index'],axis=1,inplace=True)"
      ],
      "metadata": {
        "id": "vH0xOsHgTVrc"
      },
      "execution_count": 35,
      "outputs": []
    },
    {
      "cell_type": "code",
      "source": [
        "'''\n",
        "city=df2['travel_city'].str.split(' ',expand=True)\n",
        "df2['travel_city']=city[0] + city[1]\n",
        "'''"
      ],
      "metadata": {
        "colab": {
          "base_uri": "https://localhost:8080/",
          "height": 36
        },
        "id": "xxcZ_NOwThMM",
        "outputId": "98c8f5e8-33a0-405c-99c3-3f231d39e1cd"
      },
      "execution_count": 36,
      "outputs": [
        {
          "output_type": "execute_result",
          "data": {
            "text/plain": [
              "\"\\ncity=df2['travel_city'].str.split(' ',expand=True)\\ndf2['travel_city']=city[0] + city[1]\\n\""
            ],
            "application/vnd.google.colaboratory.intrinsic+json": {
              "type": "string"
            }
          },
          "metadata": {},
          "execution_count": 36
        }
      ]
    },
    {
      "cell_type": "code",
      "source": [
        "df2.isnull().sum()"
      ],
      "metadata": {
        "colab": {
          "base_uri": "https://localhost:8080/"
        },
        "id": "Y3SVyynbWWvZ",
        "outputId": "468e28a0-1ae9-4d81-acc0-c619bbb40ee0"
      },
      "execution_count": 37,
      "outputs": [
        {
          "output_type": "execute_result",
          "data": {
            "text/plain": [
              "user_id               0\n",
              "travel_city           0\n",
              "Month of Travel       0\n",
              "Duration of Travel    0\n",
              "age                   0\n",
              "budgets               0\n",
              "karma                 0\n",
              "dtype: int64"
            ]
          },
          "metadata": {},
          "execution_count": 37
        }
      ]
    },
    {
      "cell_type": "code",
      "source": [
        "df2.columns"
      ],
      "metadata": {
        "colab": {
          "base_uri": "https://localhost:8080/"
        },
        "id": "RS1IQcs3XTks",
        "outputId": "3711eabf-0314-4454-dfe6-870e3feb997f"
      },
      "execution_count": 38,
      "outputs": [
        {
          "output_type": "execute_result",
          "data": {
            "text/plain": [
              "Index(['user_id', 'travel_city', 'Month of Travel', 'Duration of Travel',\n",
              "       'age', 'budgets', 'karma'],\n",
              "      dtype='object')"
            ]
          },
          "metadata": {},
          "execution_count": 38
        }
      ]
    },
    {
      "cell_type": "code",
      "source": [
        "def func(df,column):\n",
        "  df[column]=df[column].astype('str')\n",
        "  return(df)\n",
        "func(df2,df2.columns)"
      ],
      "metadata": {
        "colab": {
          "base_uri": "https://localhost:8080/",
          "height": 423
        },
        "id": "T-w7QgOlZjjr",
        "outputId": "ea5e88fd-2df7-40b9-e4a8-be82be0d995b"
      },
      "execution_count": 39,
      "outputs": [
        {
          "output_type": "execute_result",
          "data": {
            "text/plain": [
              "    user_id     travel_city Month of Travel Duration of Travel age budgets  \\\n",
              "0         1         Raiganj               5                1-3   6   50000   \n",
              "1         2  Sawai Madhopur               6                3-5  42  100000   \n",
              "2         3        Palakkad              12                5-7   3   75000   \n",
              "3         4   Robertson Pet               1                5-7  20   50000   \n",
              "4         5        Marmagao               5                  7  40  150000   \n",
              "..      ...             ...             ...                ...  ..     ...   \n",
              "395     396         Roorkee               2                 15  15   75000   \n",
              "396     397     Miryalaguda               7                 15  42  150000   \n",
              "397     398         Ramgarh               4                  7  37  100000   \n",
              "398     399        Shajapur               7                5-7  18  150000   \n",
              "399     400         Raiganj               4                 15  22  150000   \n",
              "\n",
              "    karma  \n",
              "0       2  \n",
              "1       2  \n",
              "2       4  \n",
              "3       3  \n",
              "4       4  \n",
              "..    ...  \n",
              "395     4  \n",
              "396     2  \n",
              "397     4  \n",
              "398     4  \n",
              "399     1  \n",
              "\n",
              "[400 rows x 7 columns]"
            ],
            "text/html": [
              "\n",
              "  <div id=\"df-243fa191-bfc5-4b7a-a5a8-1cbb7ae9c605\">\n",
              "    <div class=\"colab-df-container\">\n",
              "      <div>\n",
              "<style scoped>\n",
              "    .dataframe tbody tr th:only-of-type {\n",
              "        vertical-align: middle;\n",
              "    }\n",
              "\n",
              "    .dataframe tbody tr th {\n",
              "        vertical-align: top;\n",
              "    }\n",
              "\n",
              "    .dataframe thead th {\n",
              "        text-align: right;\n",
              "    }\n",
              "</style>\n",
              "<table border=\"1\" class=\"dataframe\">\n",
              "  <thead>\n",
              "    <tr style=\"text-align: right;\">\n",
              "      <th></th>\n",
              "      <th>user_id</th>\n",
              "      <th>travel_city</th>\n",
              "      <th>Month of Travel</th>\n",
              "      <th>Duration of Travel</th>\n",
              "      <th>age</th>\n",
              "      <th>budgets</th>\n",
              "      <th>karma</th>\n",
              "    </tr>\n",
              "  </thead>\n",
              "  <tbody>\n",
              "    <tr>\n",
              "      <th>0</th>\n",
              "      <td>1</td>\n",
              "      <td>Raiganj</td>\n",
              "      <td>5</td>\n",
              "      <td>1-3</td>\n",
              "      <td>6</td>\n",
              "      <td>50000</td>\n",
              "      <td>2</td>\n",
              "    </tr>\n",
              "    <tr>\n",
              "      <th>1</th>\n",
              "      <td>2</td>\n",
              "      <td>Sawai Madhopur</td>\n",
              "      <td>6</td>\n",
              "      <td>3-5</td>\n",
              "      <td>42</td>\n",
              "      <td>100000</td>\n",
              "      <td>2</td>\n",
              "    </tr>\n",
              "    <tr>\n",
              "      <th>2</th>\n",
              "      <td>3</td>\n",
              "      <td>Palakkad</td>\n",
              "      <td>12</td>\n",
              "      <td>5-7</td>\n",
              "      <td>3</td>\n",
              "      <td>75000</td>\n",
              "      <td>4</td>\n",
              "    </tr>\n",
              "    <tr>\n",
              "      <th>3</th>\n",
              "      <td>4</td>\n",
              "      <td>Robertson Pet</td>\n",
              "      <td>1</td>\n",
              "      <td>5-7</td>\n",
              "      <td>20</td>\n",
              "      <td>50000</td>\n",
              "      <td>3</td>\n",
              "    </tr>\n",
              "    <tr>\n",
              "      <th>4</th>\n",
              "      <td>5</td>\n",
              "      <td>Marmagao</td>\n",
              "      <td>5</td>\n",
              "      <td>7</td>\n",
              "      <td>40</td>\n",
              "      <td>150000</td>\n",
              "      <td>4</td>\n",
              "    </tr>\n",
              "    <tr>\n",
              "      <th>...</th>\n",
              "      <td>...</td>\n",
              "      <td>...</td>\n",
              "      <td>...</td>\n",
              "      <td>...</td>\n",
              "      <td>...</td>\n",
              "      <td>...</td>\n",
              "      <td>...</td>\n",
              "    </tr>\n",
              "    <tr>\n",
              "      <th>395</th>\n",
              "      <td>396</td>\n",
              "      <td>Roorkee</td>\n",
              "      <td>2</td>\n",
              "      <td>15</td>\n",
              "      <td>15</td>\n",
              "      <td>75000</td>\n",
              "      <td>4</td>\n",
              "    </tr>\n",
              "    <tr>\n",
              "      <th>396</th>\n",
              "      <td>397</td>\n",
              "      <td>Miryalaguda</td>\n",
              "      <td>7</td>\n",
              "      <td>15</td>\n",
              "      <td>42</td>\n",
              "      <td>150000</td>\n",
              "      <td>2</td>\n",
              "    </tr>\n",
              "    <tr>\n",
              "      <th>397</th>\n",
              "      <td>398</td>\n",
              "      <td>Ramgarh</td>\n",
              "      <td>4</td>\n",
              "      <td>7</td>\n",
              "      <td>37</td>\n",
              "      <td>100000</td>\n",
              "      <td>4</td>\n",
              "    </tr>\n",
              "    <tr>\n",
              "      <th>398</th>\n",
              "      <td>399</td>\n",
              "      <td>Shajapur</td>\n",
              "      <td>7</td>\n",
              "      <td>5-7</td>\n",
              "      <td>18</td>\n",
              "      <td>150000</td>\n",
              "      <td>4</td>\n",
              "    </tr>\n",
              "    <tr>\n",
              "      <th>399</th>\n",
              "      <td>400</td>\n",
              "      <td>Raiganj</td>\n",
              "      <td>4</td>\n",
              "      <td>15</td>\n",
              "      <td>22</td>\n",
              "      <td>150000</td>\n",
              "      <td>1</td>\n",
              "    </tr>\n",
              "  </tbody>\n",
              "</table>\n",
              "<p>400 rows × 7 columns</p>\n",
              "</div>\n",
              "      <button class=\"colab-df-convert\" onclick=\"convertToInteractive('df-243fa191-bfc5-4b7a-a5a8-1cbb7ae9c605')\"\n",
              "              title=\"Convert this dataframe to an interactive table.\"\n",
              "              style=\"display:none;\">\n",
              "        \n",
              "  <svg xmlns=\"http://www.w3.org/2000/svg\" height=\"24px\"viewBox=\"0 0 24 24\"\n",
              "       width=\"24px\">\n",
              "    <path d=\"M0 0h24v24H0V0z\" fill=\"none\"/>\n",
              "    <path d=\"M18.56 5.44l.94 2.06.94-2.06 2.06-.94-2.06-.94-.94-2.06-.94 2.06-2.06.94zm-11 1L8.5 8.5l.94-2.06 2.06-.94-2.06-.94L8.5 2.5l-.94 2.06-2.06.94zm10 10l.94 2.06.94-2.06 2.06-.94-2.06-.94-.94-2.06-.94 2.06-2.06.94z\"/><path d=\"M17.41 7.96l-1.37-1.37c-.4-.4-.92-.59-1.43-.59-.52 0-1.04.2-1.43.59L10.3 9.45l-7.72 7.72c-.78.78-.78 2.05 0 2.83L4 21.41c.39.39.9.59 1.41.59.51 0 1.02-.2 1.41-.59l7.78-7.78 2.81-2.81c.8-.78.8-2.07 0-2.86zM5.41 20L4 18.59l7.72-7.72 1.47 1.35L5.41 20z\"/>\n",
              "  </svg>\n",
              "      </button>\n",
              "      \n",
              "  <style>\n",
              "    .colab-df-container {\n",
              "      display:flex;\n",
              "      flex-wrap:wrap;\n",
              "      gap: 12px;\n",
              "    }\n",
              "\n",
              "    .colab-df-convert {\n",
              "      background-color: #E8F0FE;\n",
              "      border: none;\n",
              "      border-radius: 50%;\n",
              "      cursor: pointer;\n",
              "      display: none;\n",
              "      fill: #1967D2;\n",
              "      height: 32px;\n",
              "      padding: 0 0 0 0;\n",
              "      width: 32px;\n",
              "    }\n",
              "\n",
              "    .colab-df-convert:hover {\n",
              "      background-color: #E2EBFA;\n",
              "      box-shadow: 0px 1px 2px rgba(60, 64, 67, 0.3), 0px 1px 3px 1px rgba(60, 64, 67, 0.15);\n",
              "      fill: #174EA6;\n",
              "    }\n",
              "\n",
              "    [theme=dark] .colab-df-convert {\n",
              "      background-color: #3B4455;\n",
              "      fill: #D2E3FC;\n",
              "    }\n",
              "\n",
              "    [theme=dark] .colab-df-convert:hover {\n",
              "      background-color: #434B5C;\n",
              "      box-shadow: 0px 1px 3px 1px rgba(0, 0, 0, 0.15);\n",
              "      filter: drop-shadow(0px 1px 2px rgba(0, 0, 0, 0.3));\n",
              "      fill: #FFFFFF;\n",
              "    }\n",
              "  </style>\n",
              "\n",
              "      <script>\n",
              "        const buttonEl =\n",
              "          document.querySelector('#df-243fa191-bfc5-4b7a-a5a8-1cbb7ae9c605 button.colab-df-convert');\n",
              "        buttonEl.style.display =\n",
              "          google.colab.kernel.accessAllowed ? 'block' : 'none';\n",
              "\n",
              "        async function convertToInteractive(key) {\n",
              "          const element = document.querySelector('#df-243fa191-bfc5-4b7a-a5a8-1cbb7ae9c605');\n",
              "          const dataTable =\n",
              "            await google.colab.kernel.invokeFunction('convertToInteractive',\n",
              "                                                     [key], {});\n",
              "          if (!dataTable) return;\n",
              "\n",
              "          const docLinkHtml = 'Like what you see? Visit the ' +\n",
              "            '<a target=\"_blank\" href=https://colab.research.google.com/notebooks/data_table.ipynb>data table notebook</a>'\n",
              "            + ' to learn more about interactive tables.';\n",
              "          element.innerHTML = '';\n",
              "          dataTable['output_type'] = 'display_data';\n",
              "          await google.colab.output.renderOutput(dataTable, element);\n",
              "          const docLink = document.createElement('div');\n",
              "          docLink.innerHTML = docLinkHtml;\n",
              "          element.appendChild(docLink);\n",
              "        }\n",
              "      </script>\n",
              "    </div>\n",
              "  </div>\n",
              "  "
            ]
          },
          "metadata": {},
          "execution_count": 39
        }
      ]
    },
    {
      "cell_type": "code",
      "source": [
        "df2.info()"
      ],
      "metadata": {
        "colab": {
          "base_uri": "https://localhost:8080/"
        },
        "id": "WcbAvhwnaIOI",
        "outputId": "7d50a5c2-d5ea-45f7-c07c-3fc7948537cb"
      },
      "execution_count": 40,
      "outputs": [
        {
          "output_type": "stream",
          "name": "stdout",
          "text": [
            "<class 'pandas.core.frame.DataFrame'>\n",
            "RangeIndex: 400 entries, 0 to 399\n",
            "Data columns (total 7 columns):\n",
            " #   Column              Non-Null Count  Dtype \n",
            "---  ------              --------------  ----- \n",
            " 0   user_id             400 non-null    object\n",
            " 1   travel_city         400 non-null    object\n",
            " 2   Month of Travel     400 non-null    object\n",
            " 3   Duration of Travel  400 non-null    object\n",
            " 4   age                 400 non-null    object\n",
            " 5   budgets             400 non-null    object\n",
            " 6   karma               400 non-null    object\n",
            "dtypes: object(7)\n",
            "memory usage: 22.0+ KB\n"
          ]
        }
      ]
    },
    {
      "cell_type": "code",
      "source": [
        "combination=df2['user_id'].str.lower() + ' ' +df2['travel_city'].str.lower()+ ' '+ df2['Month of Travel'].str.lower() + ' '+ df2['Duration of Travel'].str.lower()+' ' +df2['age'].str.lower()+' '+df2['budgets'].str.lower()+' '+ df2['karma'].str.lower()+' '"
      ],
      "metadata": {
        "id": "vLMob0wgXojv"
      },
      "execution_count": 41,
      "outputs": []
    },
    {
      "cell_type": "code",
      "source": [
        "from sklearn.feature_extraction import text\n",
        "my_stop_words = text.ENGLISH_STOP_WORDS.union([\"book\"])\n",
        "vectorize = TfidfVectorizer(ngram_range=(1,1))"
      ],
      "metadata": {
        "id": "5_HcF_0kbOYf"
      },
      "execution_count": 42,
      "outputs": []
    },
    {
      "cell_type": "code",
      "source": [
        "feature_vectors = vectorize.fit_transform(combination)"
      ],
      "metadata": {
        "id": "6APgtarlcJr-"
      },
      "execution_count": 43,
      "outputs": []
    },
    {
      "cell_type": "code",
      "source": [
        "similarity=cosine_similarity(feature_vectors)"
      ],
      "metadata": {
        "id": "2AqKbS1ccv6A"
      },
      "execution_count": 44,
      "outputs": []
    },
    {
      "cell_type": "code",
      "source": [
        "similarity.shape"
      ],
      "metadata": {
        "colab": {
          "base_uri": "https://localhost:8080/"
        },
        "id": "0wfbtn-_c1wx",
        "outputId": "632cb2f5-7342-4a50-e142-ea3dbd3ed2a5"
      },
      "execution_count": 45,
      "outputs": [
        {
          "output_type": "execute_result",
          "data": {
            "text/plain": [
              "(400, 400)"
            ]
          },
          "metadata": {},
          "execution_count": 45
        }
      ]
    },
    {
      "cell_type": "code",
      "source": [
        "z1=input('Enter the month of travel').lower()\n",
        "z2=input('Enter duration of travel').lower()\n",
        "z3=input('Enter travel city').lower()\n",
        "z4=input('Enter the age').lower()"
      ],
      "metadata": {
        "colab": {
          "base_uri": "https://localhost:8080/"
        },
        "id": "gx240Cbnc4tz",
        "outputId": "ac8fd375-5b7e-45a0-b583-6873604c50b6"
      },
      "execution_count": 46,
      "outputs": [
        {
          "name": "stdout",
          "output_type": "stream",
          "text": [
            "Enter the month of travel3\n",
            "Enter duration of travel3\n",
            "Enter travel cityRamgarh\n",
            "Enter the age15\n"
          ]
        }
      ]
    },
    {
      "cell_type": "code",
      "source": [
        "from difflib import get_close_matches\n",
        "travelcity=df2['travel_city'].tolist()"
      ],
      "metadata": {
        "id": "pWim804Fenv4"
      },
      "execution_count": 47,
      "outputs": []
    },
    {
      "cell_type": "code",
      "source": [
        "closematch=difflib.get_close_matches(z3,travelcity)"
      ],
      "metadata": {
        "id": "E8DH3NZ-iGsR"
      },
      "execution_count": 48,
      "outputs": []
    },
    {
      "cell_type": "code",
      "source": [
        "close=closematch[0]"
      ],
      "metadata": {
        "id": "p9Mp8UItiVtD"
      },
      "execution_count": 49,
      "outputs": []
    },
    {
      "cell_type": "code",
      "source": [
        "id_of_quote=df2[df2['travel_city']==close]['user_id'].values[0]\n",
        "print(type(id_of_quote))"
      ],
      "metadata": {
        "colab": {
          "base_uri": "https://localhost:8080/"
        },
        "id": "zUbcwpWXiefp",
        "outputId": "cd9c91c9-d952-47dc-82f8-544a95c0108c"
      },
      "execution_count": 50,
      "outputs": [
        {
          "output_type": "stream",
          "name": "stdout",
          "text": [
            "<class 'str'>\n"
          ]
        }
      ]
    },
    {
      "cell_type": "code",
      "source": [
        "similarity_score=list(enumerate(similarity[int(id_of_quote)]))"
      ],
      "metadata": {
        "id": "Mcgq86w7i7rQ"
      },
      "execution_count": 51,
      "outputs": []
    },
    {
      "cell_type": "code",
      "source": [
        "len(similarity_score)"
      ],
      "metadata": {
        "colab": {
          "base_uri": "https://localhost:8080/"
        },
        "id": "kEyrqn8ml2JZ",
        "outputId": "ef9785c1-e94c-4021-a122-11c7f84f9283"
      },
      "execution_count": 52,
      "outputs": [
        {
          "output_type": "execute_result",
          "data": {
            "text/plain": [
              "400"
            ]
          },
          "metadata": {},
          "execution_count": 52
        }
      ]
    },
    {
      "cell_type": "code",
      "source": [
        "descending_score=sorted(similarity_score,key=lambda x:x[1],reverse=True)"
      ],
      "metadata": {
        "id": "Lv7o-96smGGH"
      },
      "execution_count": 53,
      "outputs": []
    },
    {
      "cell_type": "code",
      "source": [
        "descending_score"
      ],
      "metadata": {
        "colab": {
          "base_uri": "https://localhost:8080/"
        },
        "id": "ycbzVAJuDiVG",
        "outputId": "106348f6-f6f0-40aa-a002-7bfb263466ba"
      },
      "execution_count": 54,
      "outputs": [
        {
          "output_type": "execute_result",
          "data": {
            "text/plain": [
              "[(80, 1.0000000000000002),\n",
              " (24, 0.3053142375832397),\n",
              " (285, 0.30042732363591756),\n",
              " (12, 0.29557817564191385),\n",
              " (144, 0.28246401385447084),\n",
              " (208, 0.27679559796787967),\n",
              " (286, 0.27609293262511725),\n",
              " (235, 0.2748958878141605),\n",
              " (60, 0.2738642890042723),\n",
              " (34, 0.2249117561362675),\n",
              " (341, 0.22049082223179362),\n",
              " (365, 0.21862311387481878),\n",
              " (136, 0.21840432390800277),\n",
              " (335, 0.20996910411759434),\n",
              " (274, 0.2070766313022753),\n",
              " (390, 0.1992122704810465),\n",
              " (0, 0.1275655751814811),\n",
              " (28, 0.10200043809168957),\n",
              " (39, 0.09911783992811245),\n",
              " (6, 0.09766916238921575),\n",
              " (35, 0.09662889624925557),\n",
              " (46, 0.09633432700288241),\n",
              " (29, 0.09336452340830896),\n",
              " (21, 0.08656746848064968),\n",
              " (14, 0.0846423627717368),\n",
              " (160, 0.08366713966329835),\n",
              " (37, 0.08311580476500421),\n",
              " (287, 0.08276398136993557),\n",
              " (18, 0.0826251664925021),\n",
              " (3, 0.08255220673249897),\n",
              " (17, 0.08235670461579468),\n",
              " (360, 0.07973475663255433),\n",
              " (363, 0.07855532871815914),\n",
              " (320, 0.07851901704919836),\n",
              " (66, 0.07803878471601142),\n",
              " (373, 0.07803878471601142),\n",
              " (241, 0.07740176323844634),\n",
              " (26, 0.07561877509196506),\n",
              " (75, 0.0744366600940028),\n",
              " (72, 0.07420467653631961),\n",
              " (210, 0.07420467653631961),\n",
              " (381, 0.07381154424923396),\n",
              " (65, 0.07380278581827505),\n",
              " (279, 0.07380278581827505),\n",
              " (323, 0.07374537178286088),\n",
              " (299, 0.07356892071042727),\n",
              " (350, 0.07335085823556368),\n",
              " (222, 0.07325969966984527),\n",
              " (340, 0.07322175900689738),\n",
              " (152, 0.07290713232473676),\n",
              " (195, 0.07283554562749288),\n",
              " (368, 0.07283554562749288),\n",
              " (245, 0.07282984452228171),\n",
              " (344, 0.07279046092984642),\n",
              " (186, 0.07228870284014535),\n",
              " (218, 0.0722204249518922),\n",
              " (290, 0.07160781470561824),\n",
              " (384, 0.071526267020923),\n",
              " (117, 0.07140839373357569),\n",
              " (357, 0.07132963379155285),\n",
              " (324, 0.07132098554306764),\n",
              " (275, 0.07111465395970576),\n",
              " (185, 0.07105003131242156),\n",
              " (77, 0.07098135726542644),\n",
              " (57, 0.07093268440847887),\n",
              " (61, 0.07084922462896467),\n",
              " (109, 0.07058140135403562),\n",
              " (131, 0.07043209980530747),\n",
              " (27, 0.07043030129353252),\n",
              " (129, 0.07027712502578007),\n",
              " (239, 0.07025541354332394),\n",
              " (138, 0.07018579658857303),\n",
              " (364, 0.06980760675841627),\n",
              " (76, 0.06980435089025164),\n",
              " (385, 0.069802232238437),\n",
              " (255, 0.06970153661644633),\n",
              " (263, 0.06932403935408646),\n",
              " (199, 0.06901202895346031),\n",
              " (264, 0.06869464437433434),\n",
              " (15, 0.06865393330680687),\n",
              " (346, 0.06815921570290596),\n",
              " (181, 0.0680883240200521),\n",
              " (193, 0.06805110187226794),\n",
              " (125, 0.06715603605994783),\n",
              " (97, 0.06712362094114113),\n",
              " (328, 0.06710317404487662),\n",
              " (387, 0.06703961978101498),\n",
              " (257, 0.06682594970536697),\n",
              " (177, 0.0663561747095783),\n",
              " (164, 0.06534698984111416),\n",
              " (143, 0.06295512690774116),\n",
              " (148, 0.06170076475582563),\n",
              " (1, 0.0),\n",
              " (2, 0.0),\n",
              " (4, 0.0),\n",
              " (5, 0.0),\n",
              " (7, 0.0),\n",
              " (8, 0.0),\n",
              " (9, 0.0),\n",
              " (10, 0.0),\n",
              " (11, 0.0),\n",
              " (13, 0.0),\n",
              " (16, 0.0),\n",
              " (19, 0.0),\n",
              " (20, 0.0),\n",
              " (22, 0.0),\n",
              " (23, 0.0),\n",
              " (25, 0.0),\n",
              " (30, 0.0),\n",
              " (31, 0.0),\n",
              " (32, 0.0),\n",
              " (33, 0.0),\n",
              " (36, 0.0),\n",
              " (38, 0.0),\n",
              " (40, 0.0),\n",
              " (41, 0.0),\n",
              " (42, 0.0),\n",
              " (43, 0.0),\n",
              " (44, 0.0),\n",
              " (45, 0.0),\n",
              " (47, 0.0),\n",
              " (48, 0.0),\n",
              " (49, 0.0),\n",
              " (50, 0.0),\n",
              " (51, 0.0),\n",
              " (52, 0.0),\n",
              " (53, 0.0),\n",
              " (54, 0.0),\n",
              " (55, 0.0),\n",
              " (56, 0.0),\n",
              " (58, 0.0),\n",
              " (59, 0.0),\n",
              " (62, 0.0),\n",
              " (63, 0.0),\n",
              " (64, 0.0),\n",
              " (67, 0.0),\n",
              " (68, 0.0),\n",
              " (69, 0.0),\n",
              " (70, 0.0),\n",
              " (71, 0.0),\n",
              " (73, 0.0),\n",
              " (74, 0.0),\n",
              " (78, 0.0),\n",
              " (79, 0.0),\n",
              " (81, 0.0),\n",
              " (82, 0.0),\n",
              " (83, 0.0),\n",
              " (84, 0.0),\n",
              " (85, 0.0),\n",
              " (86, 0.0),\n",
              " (87, 0.0),\n",
              " (88, 0.0),\n",
              " (89, 0.0),\n",
              " (90, 0.0),\n",
              " (91, 0.0),\n",
              " (92, 0.0),\n",
              " (93, 0.0),\n",
              " (94, 0.0),\n",
              " (95, 0.0),\n",
              " (96, 0.0),\n",
              " (98, 0.0),\n",
              " (99, 0.0),\n",
              " (100, 0.0),\n",
              " (101, 0.0),\n",
              " (102, 0.0),\n",
              " (103, 0.0),\n",
              " (104, 0.0),\n",
              " (105, 0.0),\n",
              " (106, 0.0),\n",
              " (107, 0.0),\n",
              " (108, 0.0),\n",
              " (110, 0.0),\n",
              " (111, 0.0),\n",
              " (112, 0.0),\n",
              " (113, 0.0),\n",
              " (114, 0.0),\n",
              " (115, 0.0),\n",
              " (116, 0.0),\n",
              " (118, 0.0),\n",
              " (119, 0.0),\n",
              " (120, 0.0),\n",
              " (121, 0.0),\n",
              " (122, 0.0),\n",
              " (123, 0.0),\n",
              " (124, 0.0),\n",
              " (126, 0.0),\n",
              " (127, 0.0),\n",
              " (128, 0.0),\n",
              " (130, 0.0),\n",
              " (132, 0.0),\n",
              " (133, 0.0),\n",
              " (134, 0.0),\n",
              " (135, 0.0),\n",
              " (137, 0.0),\n",
              " (139, 0.0),\n",
              " (140, 0.0),\n",
              " (141, 0.0),\n",
              " (142, 0.0),\n",
              " (145, 0.0),\n",
              " (146, 0.0),\n",
              " (147, 0.0),\n",
              " (149, 0.0),\n",
              " (150, 0.0),\n",
              " (151, 0.0),\n",
              " (153, 0.0),\n",
              " (154, 0.0),\n",
              " (155, 0.0),\n",
              " (156, 0.0),\n",
              " (157, 0.0),\n",
              " (158, 0.0),\n",
              " (159, 0.0),\n",
              " (161, 0.0),\n",
              " (162, 0.0),\n",
              " (163, 0.0),\n",
              " (165, 0.0),\n",
              " (166, 0.0),\n",
              " (167, 0.0),\n",
              " (168, 0.0),\n",
              " (169, 0.0),\n",
              " (170, 0.0),\n",
              " (171, 0.0),\n",
              " (172, 0.0),\n",
              " (173, 0.0),\n",
              " (174, 0.0),\n",
              " (175, 0.0),\n",
              " (176, 0.0),\n",
              " (178, 0.0),\n",
              " (179, 0.0),\n",
              " (180, 0.0),\n",
              " (182, 0.0),\n",
              " (183, 0.0),\n",
              " (184, 0.0),\n",
              " (187, 0.0),\n",
              " (188, 0.0),\n",
              " (189, 0.0),\n",
              " (190, 0.0),\n",
              " (191, 0.0),\n",
              " (192, 0.0),\n",
              " (194, 0.0),\n",
              " (196, 0.0),\n",
              " (197, 0.0),\n",
              " (198, 0.0),\n",
              " (200, 0.0),\n",
              " (201, 0.0),\n",
              " (202, 0.0),\n",
              " (203, 0.0),\n",
              " (204, 0.0),\n",
              " (205, 0.0),\n",
              " (206, 0.0),\n",
              " (207, 0.0),\n",
              " (209, 0.0),\n",
              " (211, 0.0),\n",
              " (212, 0.0),\n",
              " (213, 0.0),\n",
              " (214, 0.0),\n",
              " (215, 0.0),\n",
              " (216, 0.0),\n",
              " (217, 0.0),\n",
              " (219, 0.0),\n",
              " (220, 0.0),\n",
              " (221, 0.0),\n",
              " (223, 0.0),\n",
              " (224, 0.0),\n",
              " (225, 0.0),\n",
              " (226, 0.0),\n",
              " (227, 0.0),\n",
              " (228, 0.0),\n",
              " (229, 0.0),\n",
              " (230, 0.0),\n",
              " (231, 0.0),\n",
              " (232, 0.0),\n",
              " (233, 0.0),\n",
              " (234, 0.0),\n",
              " (236, 0.0),\n",
              " (237, 0.0),\n",
              " (238, 0.0),\n",
              " (240, 0.0),\n",
              " (242, 0.0),\n",
              " (243, 0.0),\n",
              " (244, 0.0),\n",
              " (246, 0.0),\n",
              " (247, 0.0),\n",
              " (248, 0.0),\n",
              " (249, 0.0),\n",
              " (250, 0.0),\n",
              " (251, 0.0),\n",
              " (252, 0.0),\n",
              " (253, 0.0),\n",
              " (254, 0.0),\n",
              " (256, 0.0),\n",
              " (258, 0.0),\n",
              " (259, 0.0),\n",
              " (260, 0.0),\n",
              " (261, 0.0),\n",
              " (262, 0.0),\n",
              " (265, 0.0),\n",
              " (266, 0.0),\n",
              " (267, 0.0),\n",
              " (268, 0.0),\n",
              " (269, 0.0),\n",
              " (270, 0.0),\n",
              " (271, 0.0),\n",
              " (272, 0.0),\n",
              " (273, 0.0),\n",
              " (276, 0.0),\n",
              " (277, 0.0),\n",
              " (278, 0.0),\n",
              " (280, 0.0),\n",
              " (281, 0.0),\n",
              " (282, 0.0),\n",
              " (283, 0.0),\n",
              " (284, 0.0),\n",
              " (288, 0.0),\n",
              " (289, 0.0),\n",
              " (291, 0.0),\n",
              " (292, 0.0),\n",
              " (293, 0.0),\n",
              " (294, 0.0),\n",
              " (295, 0.0),\n",
              " (296, 0.0),\n",
              " (297, 0.0),\n",
              " (298, 0.0),\n",
              " (300, 0.0),\n",
              " (301, 0.0),\n",
              " (302, 0.0),\n",
              " (303, 0.0),\n",
              " (304, 0.0),\n",
              " (305, 0.0),\n",
              " (306, 0.0),\n",
              " (307, 0.0),\n",
              " (308, 0.0),\n",
              " (309, 0.0),\n",
              " (310, 0.0),\n",
              " (311, 0.0),\n",
              " (312, 0.0),\n",
              " (313, 0.0),\n",
              " (314, 0.0),\n",
              " (315, 0.0),\n",
              " (316, 0.0),\n",
              " (317, 0.0),\n",
              " (318, 0.0),\n",
              " (319, 0.0),\n",
              " (321, 0.0),\n",
              " (322, 0.0),\n",
              " (325, 0.0),\n",
              " (326, 0.0),\n",
              " (327, 0.0),\n",
              " (329, 0.0),\n",
              " (330, 0.0),\n",
              " (331, 0.0),\n",
              " (332, 0.0),\n",
              " (333, 0.0),\n",
              " (334, 0.0),\n",
              " (336, 0.0),\n",
              " (337, 0.0),\n",
              " (338, 0.0),\n",
              " (339, 0.0),\n",
              " (342, 0.0),\n",
              " (343, 0.0),\n",
              " (345, 0.0),\n",
              " (347, 0.0),\n",
              " (348, 0.0),\n",
              " (349, 0.0),\n",
              " (351, 0.0),\n",
              " (352, 0.0),\n",
              " (353, 0.0),\n",
              " (354, 0.0),\n",
              " (355, 0.0),\n",
              " (356, 0.0),\n",
              " (358, 0.0),\n",
              " (359, 0.0),\n",
              " (361, 0.0),\n",
              " (362, 0.0),\n",
              " (366, 0.0),\n",
              " (367, 0.0),\n",
              " (369, 0.0),\n",
              " (370, 0.0),\n",
              " (371, 0.0),\n",
              " (372, 0.0),\n",
              " (374, 0.0),\n",
              " (375, 0.0),\n",
              " (376, 0.0),\n",
              " (377, 0.0),\n",
              " (378, 0.0),\n",
              " (379, 0.0),\n",
              " (380, 0.0),\n",
              " (382, 0.0),\n",
              " (383, 0.0),\n",
              " (386, 0.0),\n",
              " (388, 0.0),\n",
              " (389, 0.0),\n",
              " (391, 0.0),\n",
              " (392, 0.0),\n",
              " (393, 0.0),\n",
              " (394, 0.0),\n",
              " (395, 0.0),\n",
              " (396, 0.0),\n",
              " (397, 0.0),\n",
              " (398, 0.0),\n",
              " (399, 0.0)]"
            ]
          },
          "metadata": {},
          "execution_count": 54
        }
      ]
    },
    {
      "cell_type": "code",
      "source": [
        "id=z3[0]"
      ],
      "metadata": {
        "id": "Pm5X-y37nACC"
      },
      "execution_count": 55,
      "outputs": []
    },
    {
      "cell_type": "code",
      "source": [
        "print('Here is your travel buddy')\n",
        "i=1\n",
        "for k in descending_score:\n",
        "  try:\n",
        "    if(i==1):\n",
        "      i=i+1\n",
        "      continue\n",
        "    id= k[0]\n",
        "    user_from_id=df2[df2['user_id']==id]['user_id'].values[0]\n",
        "    print(i-1,')',user_from_id,sep='')\n",
        "    i=i+1\n",
        "    if(i==10):\n",
        "      break\n",
        "  except:\n",
        "    pass"
      ],
      "metadata": {
        "colab": {
          "base_uri": "https://localhost:8080/"
        },
        "id": "ZAjHkx94ncuS",
        "outputId": "33e677c0-7de9-412f-e9dd-135b293beb30"
      },
      "execution_count": 57,
      "outputs": [
        {
          "output_type": "stream",
          "name": "stdout",
          "text": [
            "Here is your travel buddy\n"
          ]
        }
      ]
    }
  ]
}